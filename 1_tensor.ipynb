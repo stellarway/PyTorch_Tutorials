{
 "cells": [
  {
   "cell_type": "code",
   "execution_count": 1,
   "metadata": {},
   "outputs": [],
   "source": [
    "import torch"
   ]
  },
  {
   "cell_type": "markdown",
   "metadata": {},
   "source": [
    "### Tensor 생성"
   ]
  },
  {
   "cell_type": "code",
   "execution_count": 3,
   "metadata": {
    "scrolled": true
   },
   "outputs": [
    {
     "name": "stdout",
     "output_type": "stream",
     "text": [
      "tensor([[1.0653e-38, 1.0194e-38, 8.4490e-39],\n",
      "        [9.2756e-39, 1.0837e-38, 1.0102e-38],\n",
      "        [1.0286e-38, 9.9184e-39, 9.0000e-39],\n",
      "        [1.0561e-38, 1.0653e-38, 4.1327e-39],\n",
      "        [8.9082e-39, 9.8265e-39, 9.4592e-39]])\n"
     ]
    }
   ],
   "source": [
    "# 초기화되지 않은 5*3 행렬 생성\n",
    "x = torch.Tensor(5,3)\n",
    "# x = torch.empty(5,3)과 비슷한 기능\n",
    "print(x)"
   ]
  },
  {
   "cell_type": "code",
   "execution_count": 3,
   "metadata": {},
   "outputs": [
    {
     "data": {
      "text/plain": [
       "tensor([5., 3.])"
      ]
     },
     "execution_count": 3,
     "metadata": {},
     "output_type": "execute_result"
    }
   ],
   "source": [
    "# [5, 3] 자체가 텐서로 들어간 모양새와 구분하자\n",
    "torch.Tensor([5,3])"
   ]
  },
  {
   "cell_type": "code",
   "execution_count": 4,
   "metadata": {
    "scrolled": true
   },
   "outputs": [
    {
     "name": "stdout",
     "output_type": "stream",
     "text": [
      "tensor([[0.6646, 0.1925, 0.2916],\n",
      "        [0.3201, 0.2117, 0.7948],\n",
      "        [0.3128, 0.8482, 0.7526],\n",
      "        [0.5321, 0.1416, 0.1139],\n",
      "        [0.7979, 0.6609, 0.7841]])\n"
     ]
    }
   ],
   "source": [
    "# 무작위로 초기화된 5*3 행렬 생성\n",
    "x = torch.rand(5,3)\n",
    "print(x)"
   ]
  },
  {
   "cell_type": "code",
   "execution_count": 5,
   "metadata": {},
   "outputs": [
    {
     "name": "stdout",
     "output_type": "stream",
     "text": [
      "torch.Size([5, 3])\n"
     ]
    }
   ],
   "source": [
    "# 텐서 사이즈 확인은 .size()로\n",
    "print(x.size())"
   ]
  },
  {
   "cell_type": "markdown",
   "metadata": {},
   "source": [
    "### 연산"
   ]
  },
  {
   "cell_type": "code",
   "execution_count": 6,
   "metadata": {},
   "outputs": [
    {
     "name": "stdout",
     "output_type": "stream",
     "text": [
      "tensor([[0.6614, 0.1211, 0.4186],\n",
      "        [0.9318, 0.0514, 0.1202],\n",
      "        [0.0592, 0.2944, 0.6437],\n",
      "        [0.6458, 0.0667, 0.7189],\n",
      "        [0.0156, 0.4233, 0.7938]])\n",
      "tensor([[1.3261, 0.3137, 0.7102],\n",
      "        [1.2519, 0.2632, 0.9149],\n",
      "        [0.3720, 1.1426, 1.3963],\n",
      "        [1.1779, 0.2084, 0.8327],\n",
      "        [0.8135, 1.0842, 1.5780]])\n"
     ]
    }
   ],
   "source": [
    "# 더하기도 됨\n",
    "y = torch.rand(5,3)\n",
    "print(y)\n",
    "print(x+y)"
   ]
  },
  {
   "cell_type": "code",
   "execution_count": 7,
   "metadata": {},
   "outputs": [
    {
     "name": "stdout",
     "output_type": "stream",
     "text": [
      "tensor([[1.3261, 0.3137, 0.7102],\n",
      "        [1.2519, 0.2632, 0.9149],\n",
      "        [0.3720, 1.1426, 1.3963],\n",
      "        [1.1779, 0.2084, 0.8327],\n",
      "        [0.8135, 1.0842, 1.5780]])\n"
     ]
    }
   ],
   "source": [
    "# add 함수를 이용해도 더하기 됨\n",
    "print(torch.add(x, y))"
   ]
  },
  {
   "cell_type": "code",
   "execution_count": 8,
   "metadata": {},
   "outputs": [
    {
     "name": "stdout",
     "output_type": "stream",
     "text": [
      "tensor([[1.3261, 0.3137, 0.7102],\n",
      "        [1.2519, 0.2632, 0.9149],\n",
      "        [0.3720, 1.1426, 1.3963],\n",
      "        [1.1779, 0.2084, 0.8327],\n",
      "        [0.8135, 1.0842, 1.5780]])\n"
     ]
    }
   ],
   "source": [
    "# tensor의 형태를 미리 설정하고 더하기도 됨\n",
    "result = torch.Tensor(5, 3)\n",
    "torch.add(x, y, out=result)\n",
    "print(result)"
   ]
  },
  {
   "cell_type": "code",
   "execution_count": 9,
   "metadata": {},
   "outputs": [
    {
     "name": "stdout",
     "output_type": "stream",
     "text": [
      "tensor([[1.3261, 0.3137, 0.7102],\n",
      "        [1.2519, 0.2632, 0.9149],\n",
      "        [0.3720, 1.1426, 1.3963],\n",
      "        [1.1779, 0.2084, 0.8327],\n",
      "        [0.8135, 1.0842, 1.5780]])\n"
     ]
    }
   ],
   "source": [
    "# result의 형태를 아무렇게나 지정해줘도 되네??\n",
    "result = torch.Tensor([100])\n",
    "torch.add(x, y, out=result)\n",
    "print(result) "
   ]
  },
  {
   "cell_type": "code",
   "execution_count": 10,
   "metadata": {},
   "outputs": [
    {
     "name": "stdout",
     "output_type": "stream",
     "text": [
      "tensor([[1.3261, 0.3137, 0.7102],\n",
      "        [1.2519, 0.2632, 0.9149],\n",
      "        [0.3720, 1.1426, 1.3963],\n",
      "        [1.1779, 0.2084, 0.8327],\n",
      "        [0.8135, 1.0842, 1.5780]])\n"
     ]
    }
   ],
   "source": [
    "# 위의 셀과 아래의 계산 결과는 다르지 않지만, 위에서 out이 지정이 되지 않으면\n",
    "# a freshly-allocated array is returned.\n",
    "# 메모리 사용 측면에서 차이가 있다.\n",
    "\n",
    "result = torch.add(x, y)\n",
    "print(result)"
   ]
  },
  {
   "cell_type": "code",
   "execution_count": 11,
   "metadata": {},
   "outputs": [
    {
     "name": "stdout",
     "output_type": "stream",
     "text": [
      "tensor([[1.3261, 0.3137, 0.7102],\n",
      "        [1.2519, 0.2632, 0.9149],\n",
      "        [0.3720, 1.1426, 1.3963],\n",
      "        [1.1779, 0.2084, 0.8327],\n",
      "        [0.8135, 1.0842, 1.5780]])\n"
     ]
    }
   ],
   "source": [
    "# y자체를 x+y의 값으로 업데이트\n",
    "y.add_(x)\n",
    "print(y)"
   ]
  },
  {
   "cell_type": "code",
   "execution_count": 12,
   "metadata": {},
   "outputs": [
    {
     "name": "stdout",
     "output_type": "stream",
     "text": [
      "tensor([[0.6646, 0.1925, 0.2916],\n",
      "        [0.3201, 0.2117, 0.7948],\n",
      "        [0.3128, 0.8482, 0.7526],\n",
      "        [0.5321, 0.1416, 0.1139],\n",
      "        [0.7979, 0.6609, 0.7841]])\n"
     ]
    }
   ],
   "source": [
    "print(x)"
   ]
  },
  {
   "cell_type": "markdown",
   "metadata": {},
   "source": [
    "### 인덱스로 호출"
   ]
  },
  {
   "cell_type": "code",
   "execution_count": 13,
   "metadata": {},
   "outputs": [
    {
     "name": "stdout",
     "output_type": "stream",
     "text": [
      "tensor([0.1925, 0.2117, 0.8482, 0.1416, 0.6609])\n"
     ]
    }
   ],
   "source": [
    "# 넘파이 행렬과 비슷하게 슬라이싱 가능\n",
    "print(x[:,1])"
   ]
  },
  {
   "cell_type": "markdown",
   "metadata": {},
   "source": [
    "### resize"
   ]
  },
  {
   "cell_type": "code",
   "execution_count": 14,
   "metadata": {},
   "outputs": [
    {
     "name": "stdout",
     "output_type": "stream",
     "text": [
      "torch.Size([4, 4]) torch.Size([16]) torch.Size([2, 8])\n"
     ]
    }
   ],
   "source": [
    "x = torch.randn(4,4)\n",
    "y = x.view(16)\n",
    "z = x.view(-1,8)\n",
    "print(x.size(), y.size(), z.size())"
   ]
  },
  {
   "cell_type": "markdown",
   "metadata": {},
   "source": [
    "### Torch Tensor -> NumPy array"
   ]
  },
  {
   "cell_type": "code",
   "execution_count": 15,
   "metadata": {},
   "outputs": [
    {
     "name": "stdout",
     "output_type": "stream",
     "text": [
      "tensor([1., 1., 1., 1., 1.])\n"
     ]
    }
   ],
   "source": [
    "a = torch.ones(5)\n",
    "print(a)"
   ]
  },
  {
   "cell_type": "code",
   "execution_count": 16,
   "metadata": {},
   "outputs": [
    {
     "name": "stdout",
     "output_type": "stream",
     "text": [
      "[1. 1. 1. 1. 1.]\n"
     ]
    }
   ],
   "source": [
    "b = a.numpy()\n",
    "print(b)"
   ]
  },
  {
   "cell_type": "code",
   "execution_count": 17,
   "metadata": {},
   "outputs": [
    {
     "name": "stdout",
     "output_type": "stream",
     "text": [
      "tensor([2., 2., 2., 2., 2.])\n",
      "[2. 2. 2. 2. 2.]\n"
     ]
    }
   ],
   "source": [
    "# a의 값에 조작을 가하면 b의 값에도 영향이 간다!\n",
    "a.add_(1)\n",
    "print(a)\n",
    "print(b)"
   ]
  },
  {
   "cell_type": "markdown",
   "metadata": {},
   "source": [
    "### NumPy array -> Torch Tensor"
   ]
  },
  {
   "cell_type": "code",
   "execution_count": 18,
   "metadata": {},
   "outputs": [
    {
     "name": "stdout",
     "output_type": "stream",
     "text": [
      "[2. 2. 2. 2. 2.]\n",
      "tensor([2., 2., 2., 2., 2.], dtype=torch.float64)\n"
     ]
    }
   ],
   "source": [
    "# 마찬가지로 a의 값에 조작을 가하면 b의 값에도 영향이 간다!\n",
    "import numpy as np\n",
    "a = np.ones(5)\n",
    "b = torch.from_numpy(a)\n",
    "np.add(a, 1, out=a)\n",
    "print(a)\n",
    "print(b)"
   ]
  },
  {
   "cell_type": "code",
   "execution_count": null,
   "metadata": {},
   "outputs": [],
   "source": []
  }
 ],
 "metadata": {
  "kernelspec": {
   "display_name": "Python 3",
   "language": "python",
   "name": "python3"
  },
  "language_info": {
   "codemirror_mode": {
    "name": "ipython",
    "version": 3
   },
   "file_extension": ".py",
   "mimetype": "text/x-python",
   "name": "python",
   "nbconvert_exporter": "python",
   "pygments_lexer": "ipython3",
   "version": "3.7.4"
  }
 },
 "nbformat": 4,
 "nbformat_minor": 2
}
